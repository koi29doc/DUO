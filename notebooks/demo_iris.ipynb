{
 "cells": [
  {
   "cell_type": "markdown",
   "metadata": {},
   "source": [
    "# Iris flower dataset\n",
    "\n",
    "The [iris flower dataset](https://en.wikipedia.org/wiki/Iris_flower_data_set) is a common dataset used in machine learning.\n",
    "\n",
    "It has been created Ronald Fisher in 1936. It contains the petal length, petal width, sepal length and sepal width of 150 iris flowers from 3 different species.\n",
    "\n",
    "Dataset has been downloaded from [Kaggle](https://www.kaggle.com/uciml/iris)."
   ]
  },
  {
   "cell_type": "code",
   "execution_count": 1,
   "metadata": {},
   "outputs": [
    {
     "name": "stdout",
     "output_type": "stream",
     "text": [
      "matplotlib: 3.0.3\n",
      "numpy: 1.16.2\n",
      "pandas: 0.24.1\n",
      "AutoClassWrapper: 1.4.1\n"
     ]
    }
   ],
   "source": [
    "from pathlib import Path\n",
    "import sys\n",
    "import time\n",
    "\n",
    "import matplotlib\n",
    "import matplotlib.pyplot as plt\n",
    "from matplotlib.lines import Line2D\n",
    "import numpy as np\n",
    "import pandas as pd\n",
    "\n",
    "%matplotlib inline\n",
    "\n",
    "print(\"matplotlib:\", matplotlib.__version__)\n",
    "print(\"numpy:\", np.__version__)\n",
    "print(\"pandas:\", pd.__version__)\n",
    "\n",
    "import autoclasswrapper as wrapper\n",
    "print(\"AutoClassWrapper:\", wrapper.__version__)"
   ]
  },
  {
   "cell_type": "markdown",
   "metadata": {},
   "source": [
    "## Dataset preparation"
   ]
  },
  {
   "cell_type": "code",
   "execution_count": 2,
   "metadata": {},
   "outputs": [
    {
     "data": {
      "text/html": [
       "<div>\n",
       "<style scoped>\n",
       "    .dataframe tbody tr th:only-of-type {\n",
       "        vertical-align: middle;\n",
       "    }\n",
       "\n",
       "    .dataframe tbody tr th {\n",
       "        vertical-align: top;\n",
       "    }\n",
       "\n",
       "    .dataframe thead th {\n",
       "        text-align: right;\n",
       "    }\n",
       "</style>\n",
       "<table border=\"1\" class=\"dataframe\">\n",
       "  <thead>\n",
       "    <tr style=\"text-align: right;\">\n",
       "      <th></th>\n",
       "      <th>SepalLengthCm</th>\n",
       "      <th>SepalWidthCm</th>\n",
       "      <th>PetalLengthCm</th>\n",
       "      <th>PetalWidthCm</th>\n",
       "      <th>Species</th>\n",
       "    </tr>\n",
       "    <tr>\n",
       "      <th>Id</th>\n",
       "      <th></th>\n",
       "      <th></th>\n",
       "      <th></th>\n",
       "      <th></th>\n",
       "      <th></th>\n",
       "    </tr>\n",
       "  </thead>\n",
       "  <tbody>\n",
       "    <tr>\n",
       "      <th>1</th>\n",
       "      <td>5.1</td>\n",
       "      <td>3.5</td>\n",
       "      <td>1.4</td>\n",
       "      <td>0.2</td>\n",
       "      <td>Iris-setosa</td>\n",
       "    </tr>\n",
       "    <tr>\n",
       "      <th>2</th>\n",
       "      <td>4.9</td>\n",
       "      <td>3.0</td>\n",
       "      <td>1.4</td>\n",
       "      <td>0.2</td>\n",
       "      <td>Iris-setosa</td>\n",
       "    </tr>\n",
       "    <tr>\n",
       "      <th>3</th>\n",
       "      <td>4.7</td>\n",
       "      <td>3.2</td>\n",
       "      <td>1.3</td>\n",
       "      <td>0.2</td>\n",
       "      <td>Iris-setosa</td>\n",
       "    </tr>\n",
       "    <tr>\n",
       "      <th>4</th>\n",
       "      <td>4.6</td>\n",
       "      <td>3.1</td>\n",
       "      <td>1.5</td>\n",
       "      <td>0.2</td>\n",
       "      <td>Iris-setosa</td>\n",
       "    </tr>\n",
       "    <tr>\n",
       "      <th>5</th>\n",
       "      <td>5.0</td>\n",
       "      <td>3.6</td>\n",
       "      <td>1.4</td>\n",
       "      <td>0.2</td>\n",
       "      <td>Iris-setosa</td>\n",
       "    </tr>\n",
       "  </tbody>\n",
       "</table>\n",
       "</div>"
      ],
      "text/plain": [
       "    SepalLengthCm  SepalWidthCm  PetalLengthCm  PetalWidthCm      Species\n",
       "Id                                                                       \n",
       "1             5.1           3.5            1.4           0.2  Iris-setosa\n",
       "2             4.9           3.0            1.4           0.2  Iris-setosa\n",
       "3             4.7           3.2            1.3           0.2  Iris-setosa\n",
       "4             4.6           3.1            1.5           0.2  Iris-setosa\n",
       "5             5.0           3.6            1.4           0.2  Iris-setosa"
      ]
     },
     "execution_count": 2,
     "metadata": {},
     "output_type": "execute_result"
    }
   ],
   "source": [
    "df = pd.read_csv(\"iris.csv\", index_col=\"Id\")\n",
    "df.head()"
   ]
  },
  {
   "cell_type": "code",
   "execution_count": 3,
   "metadata": {},
   "outputs": [
    {
     "data": {
      "text/html": [
       "<div>\n",
       "<style scoped>\n",
       "    .dataframe tbody tr th:only-of-type {\n",
       "        vertical-align: middle;\n",
       "    }\n",
       "\n",
       "    .dataframe tbody tr th {\n",
       "        vertical-align: top;\n",
       "    }\n",
       "\n",
       "    .dataframe thead th {\n",
       "        text-align: right;\n",
       "    }\n",
       "</style>\n",
       "<table border=\"1\" class=\"dataframe\">\n",
       "  <thead>\n",
       "    <tr style=\"text-align: right;\">\n",
       "      <th></th>\n",
       "      <th>count</th>\n",
       "      <th>unique</th>\n",
       "      <th>top</th>\n",
       "      <th>freq</th>\n",
       "      <th>mean</th>\n",
       "      <th>std</th>\n",
       "      <th>min</th>\n",
       "      <th>25%</th>\n",
       "      <th>50%</th>\n",
       "      <th>75%</th>\n",
       "      <th>max</th>\n",
       "    </tr>\n",
       "  </thead>\n",
       "  <tbody>\n",
       "    <tr>\n",
       "      <th>SepalLengthCm</th>\n",
       "      <td>150</td>\n",
       "      <td>NaN</td>\n",
       "      <td>NaN</td>\n",
       "      <td>NaN</td>\n",
       "      <td>5.84333</td>\n",
       "      <td>0.828066</td>\n",
       "      <td>4.3</td>\n",
       "      <td>5.1</td>\n",
       "      <td>5.8</td>\n",
       "      <td>6.4</td>\n",
       "      <td>7.9</td>\n",
       "    </tr>\n",
       "    <tr>\n",
       "      <th>SepalWidthCm</th>\n",
       "      <td>150</td>\n",
       "      <td>NaN</td>\n",
       "      <td>NaN</td>\n",
       "      <td>NaN</td>\n",
       "      <td>3.054</td>\n",
       "      <td>0.433594</td>\n",
       "      <td>2</td>\n",
       "      <td>2.8</td>\n",
       "      <td>3</td>\n",
       "      <td>3.3</td>\n",
       "      <td>4.4</td>\n",
       "    </tr>\n",
       "    <tr>\n",
       "      <th>PetalLengthCm</th>\n",
       "      <td>150</td>\n",
       "      <td>NaN</td>\n",
       "      <td>NaN</td>\n",
       "      <td>NaN</td>\n",
       "      <td>3.75867</td>\n",
       "      <td>1.76442</td>\n",
       "      <td>1</td>\n",
       "      <td>1.6</td>\n",
       "      <td>4.35</td>\n",
       "      <td>5.1</td>\n",
       "      <td>6.9</td>\n",
       "    </tr>\n",
       "    <tr>\n",
       "      <th>PetalWidthCm</th>\n",
       "      <td>150</td>\n",
       "      <td>NaN</td>\n",
       "      <td>NaN</td>\n",
       "      <td>NaN</td>\n",
       "      <td>1.19867</td>\n",
       "      <td>0.763161</td>\n",
       "      <td>0.1</td>\n",
       "      <td>0.3</td>\n",
       "      <td>1.3</td>\n",
       "      <td>1.8</td>\n",
       "      <td>2.5</td>\n",
       "    </tr>\n",
       "    <tr>\n",
       "      <th>Species</th>\n",
       "      <td>150</td>\n",
       "      <td>3</td>\n",
       "      <td>Iris-versicolor</td>\n",
       "      <td>50</td>\n",
       "      <td>NaN</td>\n",
       "      <td>NaN</td>\n",
       "      <td>NaN</td>\n",
       "      <td>NaN</td>\n",
       "      <td>NaN</td>\n",
       "      <td>NaN</td>\n",
       "      <td>NaN</td>\n",
       "    </tr>\n",
       "  </tbody>\n",
       "</table>\n",
       "</div>"
      ],
      "text/plain": [
       "              count unique              top freq     mean       std  min  25%  \\\n",
       "SepalLengthCm   150    NaN              NaN  NaN  5.84333  0.828066  4.3  5.1   \n",
       "SepalWidthCm    150    NaN              NaN  NaN    3.054  0.433594    2  2.8   \n",
       "PetalLengthCm   150    NaN              NaN  NaN  3.75867   1.76442    1  1.6   \n",
       "PetalWidthCm    150    NaN              NaN  NaN  1.19867  0.763161  0.1  0.3   \n",
       "Species         150      3  Iris-versicolor   50      NaN       NaN  NaN  NaN   \n",
       "\n",
       "                50%  75%  max  \n",
       "SepalLengthCm   5.8  6.4  7.9  \n",
       "SepalWidthCm      3  3.3  4.4  \n",
       "PetalLengthCm  4.35  5.1  6.9  \n",
       "PetalWidthCm    1.3  1.8  2.5  \n",
       "Species         NaN  NaN  NaN  "
      ]
     },
     "execution_count": 3,
     "metadata": {},
     "output_type": "execute_result"
    }
   ],
   "source": [
    "df.describe(include='all').T"
   ]
  },
  {
   "cell_type": "markdown",
   "metadata": {},
   "source": [
    "Apart iris species, data in this dataset are numerical values only.\n",
    "\n",
    "To demonstrate the ability of AutoClass to handle discrete values, we will convert `PetalWidthCm` column to discrete categorical values."
   ]
  },
  {
   "cell_type": "code",
   "execution_count": 4,
   "metadata": {},
   "outputs": [],
   "source": [
    "def categorize(value):\n",
    "    if value <= 0.75:\n",
    "        return \"small\"\n",
    "    elif 0.75 < value <= 1.75:\n",
    "        return \"medium\"\n",
    "    elif 1.75 < value:\n",
    "        return \"large\""
   ]
  },
  {
   "cell_type": "code",
   "execution_count": 5,
   "metadata": {},
   "outputs": [
    {
     "data": {
      "text/html": [
       "<div>\n",
       "<style scoped>\n",
       "    .dataframe tbody tr th:only-of-type {\n",
       "        vertical-align: middle;\n",
       "    }\n",
       "\n",
       "    .dataframe tbody tr th {\n",
       "        vertical-align: top;\n",
       "    }\n",
       "\n",
       "    .dataframe thead th {\n",
       "        text-align: right;\n",
       "    }\n",
       "</style>\n",
       "<table border=\"1\" class=\"dataframe\">\n",
       "  <thead>\n",
       "    <tr style=\"text-align: right;\">\n",
       "      <th></th>\n",
       "      <th>SepalLengthCm</th>\n",
       "      <th>SepalWidthCm</th>\n",
       "      <th>PetalLengthCm</th>\n",
       "      <th>PetalWidthCm</th>\n",
       "      <th>Species</th>\n",
       "      <th>PetalWidthCat</th>\n",
       "    </tr>\n",
       "    <tr>\n",
       "      <th>Id</th>\n",
       "      <th></th>\n",
       "      <th></th>\n",
       "      <th></th>\n",
       "      <th></th>\n",
       "      <th></th>\n",
       "      <th></th>\n",
       "    </tr>\n",
       "  </thead>\n",
       "  <tbody>\n",
       "    <tr>\n",
       "      <th>1</th>\n",
       "      <td>5.1</td>\n",
       "      <td>3.5</td>\n",
       "      <td>1.4</td>\n",
       "      <td>0.2</td>\n",
       "      <td>Iris-setosa</td>\n",
       "      <td>small</td>\n",
       "    </tr>\n",
       "    <tr>\n",
       "      <th>2</th>\n",
       "      <td>4.9</td>\n",
       "      <td>3.0</td>\n",
       "      <td>1.4</td>\n",
       "      <td>0.2</td>\n",
       "      <td>Iris-setosa</td>\n",
       "      <td>small</td>\n",
       "    </tr>\n",
       "    <tr>\n",
       "      <th>3</th>\n",
       "      <td>4.7</td>\n",
       "      <td>3.2</td>\n",
       "      <td>1.3</td>\n",
       "      <td>0.2</td>\n",
       "      <td>Iris-setosa</td>\n",
       "      <td>small</td>\n",
       "    </tr>\n",
       "    <tr>\n",
       "      <th>4</th>\n",
       "      <td>4.6</td>\n",
       "      <td>3.1</td>\n",
       "      <td>1.5</td>\n",
       "      <td>0.2</td>\n",
       "      <td>Iris-setosa</td>\n",
       "      <td>small</td>\n",
       "    </tr>\n",
       "    <tr>\n",
       "      <th>5</th>\n",
       "      <td>5.0</td>\n",
       "      <td>3.6</td>\n",
       "      <td>1.4</td>\n",
       "      <td>0.2</td>\n",
       "      <td>Iris-setosa</td>\n",
       "      <td>small</td>\n",
       "    </tr>\n",
       "  </tbody>\n",
       "</table>\n",
       "</div>"
      ],
      "text/plain": [
       "    SepalLengthCm  SepalWidthCm  PetalLengthCm  PetalWidthCm      Species  \\\n",
       "Id                                                                          \n",
       "1             5.1           3.5            1.4           0.2  Iris-setosa   \n",
       "2             4.9           3.0            1.4           0.2  Iris-setosa   \n",
       "3             4.7           3.2            1.3           0.2  Iris-setosa   \n",
       "4             4.6           3.1            1.5           0.2  Iris-setosa   \n",
       "5             5.0           3.6            1.4           0.2  Iris-setosa   \n",
       "\n",
       "   PetalWidthCat  \n",
       "Id                \n",
       "1          small  \n",
       "2          small  \n",
       "3          small  \n",
       "4          small  \n",
       "5          small  "
      ]
     },
     "execution_count": 5,
     "metadata": {},
     "output_type": "execute_result"
    }
   ],
   "source": [
    "df[\"PetalWidthCat\"] = df[\"PetalWidthCm\"].apply(categorize)\n",
    "df.head()"
   ]
  },
  {
   "cell_type": "markdown",
   "metadata": {},
   "source": [
    "Save dataset in two different files. One with real values and the other one with discrete values (column `PetalWidthCat`)"
   ]
  },
  {
   "cell_type": "code",
   "execution_count": 6,
   "metadata": {},
   "outputs": [
    {
     "name": "stdout",
     "output_type": "stream",
     "text": [
      "Id\tSepalLengthCm\tSepalWidthCm\tPetalLengthCm\n",
      "1\t5.1\t3.5\t1.4\n",
      "2\t4.9\t3.0\t1.4\n",
      "3\t4.7\t3.2\t1.3\n",
      "4\t4.6\t3.1\t1.5\n",
      "5\t5.0\t3.6\t1.4\n",
      "6\t5.4\t3.9\t1.7\n",
      "7\t4.6\t3.4\t1.4\n",
      "8\t5.0\t3.4\t1.5\n",
      "9\t4.4\t2.9\t1.4\n"
     ]
    }
   ],
   "source": [
    "df.drop([\"Species\", \"PetalWidthCm\", \"PetalWidthCat\"], axis=1).to_csv(\"iris_real.tsv\", sep=\"\\t\", header=True)\n",
    "!head iris_real.tsv"
   ]
  },
  {
   "cell_type": "code",
   "execution_count": 7,
   "metadata": {},
   "outputs": [
    {
     "name": "stdout",
     "output_type": "stream",
     "text": [
      "Id\tPetalWidthCat\n",
      "1\tsmall\n",
      "2\tsmall\n",
      "3\tsmall\n",
      "4\tsmall\n",
      "5\tsmall\n",
      "6\tsmall\n",
      "7\tsmall\n",
      "8\tsmall\n",
      "9\tsmall\n"
     ]
    }
   ],
   "source": [
    "df[\"PetalWidthCat\"].to_csv(\"iris_discrete.tsv\", sep=\"\\t\", header=True)\n",
    "!head iris_discrete.tsv"
   ]
  },
  {
   "cell_type": "markdown",
   "metadata": {},
   "source": [
    "## Step 1 - prepare input files"
   ]
  },
  {
   "cell_type": "code",
   "execution_count": 8,
   "metadata": {},
   "outputs": [
    {
     "name": "stderr",
     "output_type": "stream",
     "text": [
      "2019-07-03 14:31:08 INFO     Reading data file 'iris_real.tsv' as 'real scalar' with error 0.01\n",
      "2019-07-03 14:31:08 INFO     Detected encoding: ascii\n",
      "2019-07-03 14:31:08 INFO     Found 150 rows and 4 columns\n",
      "2019-07-03 14:31:08 DEBUG    Checking column names\n",
      "2019-07-03 14:31:08 DEBUG    Index name 'Id'\n",
      "2019-07-03 14:31:08 DEBUG    Column name 'SepalLengthCm'\n",
      "2019-07-03 14:31:08 DEBUG    Column name 'SepalWidthCm'\n",
      "2019-07-03 14:31:08 DEBUG    Column name 'PetalLengthCm'\n",
      "2019-07-03 14:31:08 INFO     Checking data format\n",
      "2019-07-03 14:31:08 INFO     Column 'SepalLengthCm'\n",
      "2019-07-03 14:31:08 INFO     count    150.000000\n",
      "2019-07-03 14:31:08 INFO     mean       5.843333\n",
      "2019-07-03 14:31:08 INFO     std        0.828066\n",
      "2019-07-03 14:31:08 INFO     min        4.300000\n",
      "2019-07-03 14:31:08 INFO     50%        5.800000\n",
      "2019-07-03 14:31:08 INFO     max        7.900000\n",
      "2019-07-03 14:31:08 INFO     ---\n",
      "2019-07-03 14:31:08 INFO     Column 'SepalWidthCm'\n",
      "2019-07-03 14:31:08 INFO     count    150.000000\n",
      "2019-07-03 14:31:08 INFO     mean       3.054000\n",
      "2019-07-03 14:31:08 INFO     std        0.433594\n",
      "2019-07-03 14:31:08 INFO     min        2.000000\n",
      "2019-07-03 14:31:08 INFO     50%        3.000000\n",
      "2019-07-03 14:31:08 INFO     max        4.400000\n",
      "2019-07-03 14:31:08 INFO     ---\n",
      "2019-07-03 14:31:08 INFO     Column 'PetalLengthCm'\n",
      "2019-07-03 14:31:08 INFO     count    150.000000\n",
      "2019-07-03 14:31:08 INFO     mean       3.758667\n",
      "2019-07-03 14:31:08 INFO     std        1.764420\n",
      "2019-07-03 14:31:08 INFO     min        1.000000\n",
      "2019-07-03 14:31:08 INFO     50%        4.350000\n",
      "2019-07-03 14:31:08 INFO     max        6.900000\n",
      "2019-07-03 14:31:08 INFO     ---\n",
      "2019-07-03 14:31:08 INFO     Reading data file 'iris_discrete.tsv' as 'discrete'\n",
      "2019-07-03 14:31:08 INFO     Detected encoding: ascii\n",
      "2019-07-03 14:31:08 INFO     Found 150 rows and 2 columns\n",
      "2019-07-03 14:31:08 DEBUG    Checking column names\n",
      "2019-07-03 14:31:08 DEBUG    Index name 'Id'\n",
      "2019-07-03 14:31:08 DEBUG    Column name 'PetalWidthCat'\n",
      "2019-07-03 14:31:08 INFO     Checking data format\n",
      "2019-07-03 14:31:08 INFO     Column 'PetalWidthCat': 3 different values\n",
      "2019-07-03 14:31:08 INFO     Preparing input data\n",
      "2019-07-03 14:31:08 INFO     Final dataframe has 150 lines and 5 columns\n",
      "2019-07-03 14:31:08 INFO     Searching for missing values\n",
      "2019-07-03 14:31:08 INFO     No missing values found\n",
      "2019-07-03 14:31:08 INFO     Writing autoclass.db2 file\n",
      "2019-07-03 14:31:08 INFO     If any, missing values will be encoded as '?'\n",
      "2019-07-03 14:31:08 DEBUG    Writing autoclass.tsv file [for later use]\n",
      "2019-07-03 14:31:08 INFO     Writing .hd2 file\n",
      "2019-07-03 14:31:08 INFO     Writing .model file\n",
      "2019-07-03 14:31:08 INFO     Writing .s-params file\n",
      "2019-07-03 14:31:08 INFO     Writing .r-params file\n"
     ]
    }
   ],
   "source": [
    "# Create object to prepare dataset.\n",
    "clust = wrapper.Input()\n",
    "\n",
    "# Load datasets from tsv files.\n",
    "clust.add_input_data(\"iris_real.tsv\", \"real scalar\")\n",
    "clust.add_input_data(\"iris_discrete.tsv\", \"discrete\")\n",
    "\n",
    "# Prepare input data:\n",
    "# - create a final dataframe\n",
    "# - merge datasets if multiple inputs\n",
    "clust.prepare_input_data()\n",
    "\n",
    "# Create files needed by AutoClass.\n",
    "clust.create_db2_file()\n",
    "clust.create_hd2_file()\n",
    "clust.create_model_file()\n",
    "# We wanted reproducible results to ease documentation.\n",
    "# But bear in mind, that this parameter is not advised by authors of AutoClass C in production run.\n",
    "# Use clust.create_sparams_file() instead.\n",
    "clust.create_sparams_file(reproducible_run=True)\n",
    "clust.create_rparams_file()"
   ]
  },
  {
   "cell_type": "markdown",
   "metadata": {},
   "source": [
    "## Step 2 - prepare run script & run autoclass"
   ]
  },
  {
   "cell_type": "code",
   "execution_count": 9,
   "metadata": {},
   "outputs": [
    {
     "name": "stderr",
     "output_type": "stream",
     "text": [
      "2019-07-03 14:31:26 INFO     AutoClass C executable found in /home/pierre/.soft/bin/autoclass\n",
      "2019-07-03 14:31:26 INFO     Writing run file\n",
      "2019-07-03 14:31:26 INFO     AutoClass C executable found in /home/pierre/.soft/bin/autoclass\n",
      "2019-07-03 14:31:26 INFO     AutoClass C version: AUTOCLASS C (version 3.3.6unx)\n",
      "2019-07-03 14:31:26 INFO     Running clustering...\n"
     ]
    }
   ],
   "source": [
    "# Clean previous status file if a classification has already been performed.\n",
    "!rm -f autoclass-run-*\n",
    "\n",
    "# Search autoclass in path.\n",
    "wrapper.search_autoclass_in_path()\n",
    "\n",
    "# Create object to run AutoClass.\n",
    "run = wrapper.Run()\n",
    "\n",
    "# Prepare run script.\n",
    "run.create_run_file()\n",
    "\n",
    "# Run AutoClass.\n",
    "run.run()"
   ]
  },
  {
   "cell_type": "markdown",
   "metadata": {},
   "source": [
    "## Step 3 - parse and format results"
   ]
  },
  {
   "cell_type": "code",
   "execution_count": 10,
   "metadata": {},
   "outputs": [
    {
     "name": "stderr",
     "output_type": "stream",
     "text": [
      "2019-07-03 14:31:31 INFO     Extracting autoclass results\n",
      "2019-07-03 14:31:31 INFO     Found 150 cases classified in 4 classes\n",
      "2019-07-03 14:31:31 INFO     Aggregating input data\n",
      "2019-07-03 14:31:31 INFO     Writing classes + probabilities .tsv file\n",
      "2019-07-03 14:31:31 INFO     Writing .cdt file\n",
      "2019-07-03 14:31:31 INFO     Writing .cdt file (with probabilities)\n",
      "2019-07-03 14:31:31 INFO     Writing class statistics\n",
      "2019-07-03 14:31:31 INFO     Writing dendrogram\n"
     ]
    },
    {
     "data": {
      "image/png": "[encoded data removed]",
      "text/plain": [
       "<Figure size 720x432 with 1 Axes>"
      ]
     },
     "metadata": {
      "needs_background": "light"
     },
     "output_type": "display_data"
    }
   ],
   "source": [
    "timer = 0\n",
    "step = 2\n",
    "while not Path(\"autoclass-run-success\").exists():\n",
    "    timer += step\n",
    "    sys.stdout.write(\"\\r\")\n",
    "    sys.stdout.write(\"Time: {} sec.\".format(timer))\n",
    "    sys.stdout.flush()\n",
    "    time.sleep(step)\n",
    "\n",
    "results = wrapper.Output()\n",
    "results.extract_results()\n",
    "results.aggregate_input_data()\n",
    "results.write_cdt()\n",
    "results.write_cdt(with_proba=True)\n",
    "results.write_class_stats()\n",
    "results.write_dendrogram()"
   ]
  },
  {
   "cell_type": "markdown",
   "metadata": {},
   "source": [
    "For comparison, add class number to original dataset."
   ]
  },
  {
   "cell_type": "code",
   "execution_count": 11,
   "metadata": {},
   "outputs": [
    {
     "data": {
      "text/html": [
       "<div>\n",
       "<style scoped>\n",
       "    .dataframe tbody tr th:only-of-type {\n",
       "        vertical-align: middle;\n",
       "    }\n",
       "\n",
       "    .dataframe tbody tr th {\n",
       "        vertical-align: top;\n",
       "    }\n",
       "\n",
       "    .dataframe thead th {\n",
       "        text-align: right;\n",
       "    }\n",
       "</style>\n",
       "<table border=\"1\" class=\"dataframe\">\n",
       "  <thead>\n",
       "    <tr style=\"text-align: right;\">\n",
       "      <th></th>\n",
       "      <th>SepalLengthCm</th>\n",
       "      <th>SepalWidthCm</th>\n",
       "      <th>PetalLengthCm</th>\n",
       "      <th>PetalWidthCm</th>\n",
       "      <th>Species</th>\n",
       "      <th>PetalWidthCat</th>\n",
       "      <th>main-class</th>\n",
       "    </tr>\n",
       "    <tr>\n",
       "      <th>Id</th>\n",
       "      <th></th>\n",
       "      <th></th>\n",
       "      <th></th>\n",
       "      <th></th>\n",
       "      <th></th>\n",
       "      <th></th>\n",
       "      <th></th>\n",
       "    </tr>\n",
       "  </thead>\n",
       "  <tbody>\n",
       "    <tr>\n",
       "      <th>1</th>\n",
       "      <td>5.1</td>\n",
       "      <td>3.5</td>\n",
       "      <td>1.4</td>\n",
       "      <td>0.2</td>\n",
       "      <td>Iris-setosa</td>\n",
       "      <td>small</td>\n",
       "      <td>1</td>\n",
       "    </tr>\n",
       "    <tr>\n",
       "      <th>2</th>\n",
       "      <td>4.9</td>\n",
       "      <td>3.0</td>\n",
       "      <td>1.4</td>\n",
       "      <td>0.2</td>\n",
       "      <td>Iris-setosa</td>\n",
       "      <td>small</td>\n",
       "      <td>1</td>\n",
       "    </tr>\n",
       "    <tr>\n",
       "      <th>3</th>\n",
       "      <td>4.7</td>\n",
       "      <td>3.2</td>\n",
       "      <td>1.3</td>\n",
       "      <td>0.2</td>\n",
       "      <td>Iris-setosa</td>\n",
       "      <td>small</td>\n",
       "      <td>1</td>\n",
       "    </tr>\n",
       "    <tr>\n",
       "      <th>4</th>\n",
       "      <td>4.6</td>\n",
       "      <td>3.1</td>\n",
       "      <td>1.5</td>\n",
       "      <td>0.2</td>\n",
       "      <td>Iris-setosa</td>\n",
       "      <td>small</td>\n",
       "      <td>1</td>\n",
       "    </tr>\n",
       "    <tr>\n",
       "      <th>5</th>\n",
       "      <td>5.0</td>\n",
       "      <td>3.6</td>\n",
       "      <td>1.4</td>\n",
       "      <td>0.2</td>\n",
       "      <td>Iris-setosa</td>\n",
       "      <td>small</td>\n",
       "      <td>1</td>\n",
       "    </tr>\n",
       "  </tbody>\n",
       "</table>\n",
       "</div>"
      ],
      "text/plain": [
       "    SepalLengthCm  SepalWidthCm  PetalLengthCm  PetalWidthCm      Species  \\\n",
       "Id                                                                          \n",
       "1             5.1           3.5            1.4           0.2  Iris-setosa   \n",
       "2             4.9           3.0            1.4           0.2  Iris-setosa   \n",
       "3             4.7           3.2            1.3           0.2  Iris-setosa   \n",
       "4             4.6           3.1            1.5           0.2  Iris-setosa   \n",
       "5             5.0           3.6            1.4           0.2  Iris-setosa   \n",
       "\n",
       "   PetalWidthCat  main-class  \n",
       "Id                            \n",
       "1          small           1  \n",
       "2          small           1  \n",
       "3          small           1  \n",
       "4          small           1  \n",
       "5          small           1  "
      ]
     },
     "execution_count": 11,
     "metadata": {},
     "output_type": "execute_result"
    }
   ],
   "source": [
    "df_class = pd.read_csv(\"autoclass_out.tsv\", sep=\"\\t\", index_col=\"Id\")\n",
    "df = pd.concat([df, df_class[\"main-class\"]], axis=1, join=\"outer\")\n",
    "df.head()"
   ]
  },
  {
   "cell_type": "markdown",
   "metadata": {},
   "source": [
    "## Compute class distribution for iris species"
   ]
  },
  {
   "cell_type": "code",
   "execution_count": 12,
   "metadata": {},
   "outputs": [
    {
     "data": {
      "text/html": [
       "<div>\n",
       "<style scoped>\n",
       "    .dataframe tbody tr th:only-of-type {\n",
       "        vertical-align: middle;\n",
       "    }\n",
       "\n",
       "    .dataframe tbody tr th {\n",
       "        vertical-align: top;\n",
       "    }\n",
       "\n",
       "    .dataframe thead th {\n",
       "        text-align: right;\n",
       "    }\n",
       "</style>\n",
       "<table border=\"1\" class=\"dataframe\">\n",
       "  <thead>\n",
       "    <tr style=\"text-align: right;\">\n",
       "      <th>main-class</th>\n",
       "      <th>1</th>\n",
       "      <th>2</th>\n",
       "      <th>3</th>\n",
       "      <th>4</th>\n",
       "    </tr>\n",
       "    <tr>\n",
       "      <th>Species</th>\n",
       "      <th></th>\n",
       "      <th></th>\n",
       "      <th></th>\n",
       "      <th></th>\n",
       "    </tr>\n",
       "  </thead>\n",
       "  <tbody>\n",
       "    <tr>\n",
       "      <th>Iris-setosa</th>\n",
       "      <td>50</td>\n",
       "      <td>0</td>\n",
       "      <td>0</td>\n",
       "      <td>0</td>\n",
       "    </tr>\n",
       "    <tr>\n",
       "      <th>Iris-versicolor</th>\n",
       "      <td>0</td>\n",
       "      <td>23</td>\n",
       "      <td>0</td>\n",
       "      <td>27</td>\n",
       "    </tr>\n",
       "    <tr>\n",
       "      <th>Iris-virginica</th>\n",
       "      <td>0</td>\n",
       "      <td>16</td>\n",
       "      <td>32</td>\n",
       "      <td>2</td>\n",
       "    </tr>\n",
       "  </tbody>\n",
       "</table>\n",
       "</div>"
      ],
      "text/plain": [
       "main-class        1   2   3   4\n",
       "Species                        \n",
       "Iris-setosa      50   0   0   0\n",
       "Iris-versicolor   0  23   0  27\n",
       "Iris-virginica    0  16  32   2"
      ]
     },
     "execution_count": 12,
     "metadata": {},
     "output_type": "execute_result"
    }
   ],
   "source": [
    "pd.pivot_table(df, index=[\"Species\"], columns=[\"main-class\"], values=[], aggfunc=len, fill_value=0)"
   ]
  },
  {
   "cell_type": "markdown",
   "metadata": {},
   "source": [
    "The setosa species is found only in cluster 1.\n",
    "\n",
    "The versicolor species is found in cluster 2 and 4.\n",
    "\n",
    "The virginica species is found mainly in cluster 3 but also in cluster 2 and 4.\n",
    "\n",
    "AutoClass-C determines automatically what is the optimal number of classes. It's always a good idea to analyse the final results to check if some cluster cannot be merged.\n"
   ]
  }
 ],
 "metadata": {
  "kernelspec": {
   "display_name": "Python 3",
   "language": "python",
   "name": "python3"
  },
  "language_info": {
   "codemirror_mode": {
    "name": "ipython",
    "version": 3
   },
   "file_extension": ".py",
   "mimetype": "text/x-python",
   "name": "python",
   "nbconvert_exporter": "python",
   "pygments_lexer": "ipython3",
   "version": "3.7.1"
  }
 },
 "nbformat": 4,
 "nbformat_minor": 2
}
