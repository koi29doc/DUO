{
 "cells": [
  {
   "cell_type": "code",
   "execution_count": 1,
   "metadata": {
    "collapsed": true
   },
   "outputs": [],
   "source": [
    "import numpy as np\n",
    "import pandas as pd\n",
    "import matplotlib.pyplot as plt\n",
    "%matplotlib inline\n",
    "from IPython.display import display"
   ]
  },
  {
   "cell_type": "code",
   "execution_count": 6,
   "metadata": {},
   "outputs": [
    {
     "data": {
      "text/html": [
       "<div>\n",
       "<style>\n",
       "    .dataframe thead tr:only-child th {\n",
       "        text-align: right;\n",
       "    }\n",
       "\n",
       "    .dataframe thead th {\n",
       "        text-align: left;\n",
       "    }\n",
       "\n",
       "    .dataframe tbody tr th {\n",
       "        vertical-align: top;\n",
       "    }\n",
       "</style>\n",
       "<table border=\"1\" class=\"dataframe\">\n",
       "  <thead>\n",
       "    <tr style=\"text-align: right;\">\n",
       "      <th></th>\n",
       "      <th>colA</th>\n",
       "      <th>colB</th>\n",
       "      <th>colC</th>\n",
       "    </tr>\n",
       "    <tr>\n",
       "      <th>name</th>\n",
       "      <th></th>\n",
       "      <th></th>\n",
       "      <th></th>\n",
       "    </tr>\n",
       "  </thead>\n",
       "  <tbody>\n",
       "    <tr>\n",
       "      <th>gene00</th>\n",
       "      <td>2.416425</td>\n",
       "      <td>-2.706362</td>\n",
       "      <td>0.476209</td>\n",
       "    </tr>\n",
       "    <tr>\n",
       "      <th>gene01</th>\n",
       "      <td>-2.490976</td>\n",
       "      <td>0.055658</td>\n",
       "      <td>1.546273</td>\n",
       "    </tr>\n",
       "    <tr>\n",
       "      <th>gene02</th>\n",
       "      <td>1.041631</td>\n",
       "      <td>-2.800473</td>\n",
       "      <td>-1.690103</td>\n",
       "    </tr>\n",
       "    <tr>\n",
       "      <th>gene03</th>\n",
       "      <td>-1.171586</td>\n",
       "      <td>-2.586027</td>\n",
       "      <td>0.049415</td>\n",
       "    </tr>\n",
       "    <tr>\n",
       "      <th>gene04</th>\n",
       "      <td>0.109849</td>\n",
       "      <td>-1.086169</td>\n",
       "      <td>2.807409</td>\n",
       "    </tr>\n",
       "    <tr>\n",
       "      <th>gene05</th>\n",
       "      <td>-0.234893</td>\n",
       "      <td>1.780258</td>\n",
       "      <td>2.323186</td>\n",
       "    </tr>\n",
       "    <tr>\n",
       "      <th>gene06</th>\n",
       "      <td>2.811513</td>\n",
       "      <td>1.424005</td>\n",
       "      <td>-0.925674</td>\n",
       "    </tr>\n",
       "    <tr>\n",
       "      <th>gene07</th>\n",
       "      <td>1.450940</td>\n",
       "      <td>-2.460888</td>\n",
       "      <td>-2.323004</td>\n",
       "    </tr>\n",
       "    <tr>\n",
       "      <th>gene08</th>\n",
       "      <td>-0.560273</td>\n",
       "      <td>1.768116</td>\n",
       "      <td>-2.108430</td>\n",
       "    </tr>\n",
       "    <tr>\n",
       "      <th>gene09</th>\n",
       "      <td>1.340070</td>\n",
       "      <td>-2.978587</td>\n",
       "      <td>0.655417</td>\n",
       "    </tr>\n",
       "  </tbody>\n",
       "</table>\n",
       "</div>"
      ],
      "text/plain": [
       "            colA      colB      colC\n",
       "name                                \n",
       "gene00  2.416425 -2.706362  0.476209\n",
       "gene01 -2.490976  0.055658  1.546273\n",
       "gene02  1.041631 -2.800473 -1.690103\n",
       "gene03 -1.171586 -2.586027  0.049415\n",
       "gene04  0.109849 -1.086169  2.807409\n",
       "gene05 -0.234893  1.780258  2.323186\n",
       "gene06  2.811513  1.424005 -0.925674\n",
       "gene07  1.450940 -2.460888 -2.323004\n",
       "gene08 -0.560273  1.768116 -2.108430\n",
       "gene09  1.340070 -2.978587  0.655417"
      ]
     },
     "metadata": {},
     "output_type": "display_data"
    }
   ],
   "source": [
    "index = [\"gene{:02d}\".format(i) for i in range(10)]\n",
    "columns = [\"colA\", \"colB\", \"colC\"]\n",
    "data = np.random.uniform(-3, 3, (len(index), len(columns)))\n",
    "df = pd.DataFrame(data, index=index, columns=columns)\n",
    "df.index.name = \"name\"\n",
    "display(df)\n",
    "#df.to_csv(\"sample1.tsv\", header=True, sep=\"\\t\")"
   ]
  },
  {
   "cell_type": "code",
   "execution_count": null,
   "metadata": {
    "collapsed": true
   },
   "outputs": [],
   "source": []
  },
  {
   "cell_type": "code",
   "execution_count": 2,
   "metadata": {},
   "outputs": [
    {
     "name": "stdout",
     "output_type": "stream",
     "text": [
      "                x         y\n",
      "Name                       \n",
      "CL1-001  5.190271  3.529566\n",
      "CL1-002  5.278302  3.405060\n",
      "CL1-003  4.813423  4.470904\n",
      "CL1-004  4.427158  3.607821\n",
      "CL1-005  5.465773  4.541103\n"
     ]
    },
    {
     "data": {
      "image/png": "[encoded data removed]",
      "text/plain": [
       "<matplotlib.figure.Figure at 0x7fcd76f2ddd8>"
      ]
     },
     "metadata": {},
     "output_type": "display_data"
    }
   ],
   "source": [
    "points = 200\n",
    "shift = 4\n",
    "df1 = pd.DataFrame(data={\"x\":np.random.normal(0, 0.5, points)+5, \n",
    "                         \"y\":np.random.normal(0, 0.5, points)+shift},\n",
    "                   index=[\"CL1-{:03}\".format(i+1) for i in range(points)])\n",
    "df2 = pd.DataFrame(data={\"x\":np.random.normal(0, 0.5, points)+10, \n",
    "                         \"y\":np.random.normal(0, 0.5, points)+shift},\n",
    "                   index=[\"CL2-{:03}\".format(i+1) for i in range(points)])\n",
    "df3 = pd.DataFrame(data={\"x\":np.random.normal(0, 0.5, points)+15, \n",
    "                         \"y\":np.random.normal(0, 0.5, points)+shift},\n",
    "                   index=[\"CL3-{:03}\".format(i+1) for i in range(points)])\n",
    "plt.scatter(df1[\"x\"], df1[\"y\"])\n",
    "plt.scatter(df2[\"x\"], df2[\"y\"])\n",
    "plt.scatter(df3[\"x\"], df3[\"y\"])\n",
    "plt.ylim(0, 8)\n",
    "df = pd.concat([df1, df2, df3])\n",
    "df.index.name = \"Name\"\n",
    "print(df.head())\n",
    "#df.to_csv(\"sample-3-classes-scalar.tsv\", sep=\"\\t\", index=True, header=True)"
   ]
  },
  {
   "cell_type": "code",
   "execution_count": 3,
   "metadata": {},
   "outputs": [
    {
     "name": "stdout",
     "output_type": "stream",
     "text": [
      "                x         y\n",
      "Name                       \n",
      "CL1-001 -5.187224  0.489949\n",
      "CL1-002 -5.151344 -0.857395\n",
      "CL1-003 -5.839433 -0.406763\n",
      "CL1-004 -5.466765 -0.784454\n",
      "CL1-005 -4.580674  0.598689\n"
     ]
    },
    {
     "data": {
      "image/png": "[encoded data removed]",
      "text/plain": [
       "<matplotlib.figure.Figure at 0x7fcd73bb7e48>"
      ]
     },
     "metadata": {},
     "output_type": "display_data"
    }
   ],
   "source": [
    "points = 200\n",
    "shift = 0\n",
    "df1 = pd.DataFrame(data={\"x\":np.random.normal(0, 0.5, points)-5, \n",
    "                         \"y\":np.random.normal(0, 0.5, points)+shift},\n",
    "                   index=[\"CL1-{:03}\".format(i+1) for i in range(points)])\n",
    "df2 = pd.DataFrame(data={\"x\":np.random.normal(0, 0.5, points), \n",
    "                         \"y\":np.random.normal(0, 0.5, points)+shift},\n",
    "                   index=[\"CL2-{:03}\".format(i+1) for i in range(points)])\n",
    "df3 = pd.DataFrame(data={\"x\":np.random.normal(0, 0.5, points)+5, \n",
    "                         \"y\":np.random.normal(0, 0.5, points)+shift},\n",
    "                   index=[\"CL3-{:03}\".format(i+1) for i in range(points)])\n",
    "plt.scatter(df1[\"x\"], df1[\"y\"])\n",
    "plt.scatter(df2[\"x\"], df2[\"y\"])\n",
    "plt.scatter(df3[\"x\"], df3[\"y\"])\n",
    "plt.ylim(-4, 4)\n",
    "df = pd.concat([df1, df2, df3])\n",
    "df.index.name = \"Name\"\n",
    "print(df.head())\n",
    "#df.to_csv(\"sample-3-classes-location.tsv\", sep=\"\\t\", index=True, header=True)"
   ]
  },
  {
   "cell_type": "code",
   "execution_count": null,
   "metadata": {},
   "outputs": [],
   "source": []
  }
 ],
 "metadata": {
  "kernelspec": {
   "display_name": "Python 3",
   "language": "python",
   "name": "python3"
  },
  "language_info": {
   "codemirror_mode": {
    "name": "ipython",
    "version": 3
   },
   "file_extension": ".py",
   "mimetype": "text/x-python",
   "name": "python",
   "nbconvert_exporter": "python",
   "pygments_lexer": "ipython3",
   "version": "3.6.1"
  }
 },
 "nbformat": 4,
 "nbformat_minor": 2
}
