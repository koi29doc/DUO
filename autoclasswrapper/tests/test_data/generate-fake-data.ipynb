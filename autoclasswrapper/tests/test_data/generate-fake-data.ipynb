{
 "cells": [
  {
   "cell_type": "code",
   "execution_count": 26,
   "metadata": {
    "collapsed": true
   },
   "outputs": [],
   "source": [
    "import numpy as np\n",
    "import pandas as pd\n",
    "from IPython.display import display"
   ]
  },
  {
   "cell_type": "code",
   "execution_count": 28,
   "metadata": {},
   "outputs": [
    {
     "data": {
      "text/html": [
       "<div>\n",
       "<style>\n",
       "    .dataframe thead tr:only-child th {\n",
       "        text-align: right;\n",
       "    }\n",
       "\n",
       "    .dataframe thead th {\n",
       "        text-align: left;\n",
       "    }\n",
       "\n",
       "    .dataframe tbody tr th {\n",
       "        vertical-align: top;\n",
       "    }\n",
       "</style>\n",
       "<table border=\"1\" class=\"dataframe\">\n",
       "  <thead>\n",
       "    <tr style=\"text-align: right;\">\n",
       "      <th></th>\n",
       "      <th>colA</th>\n",
       "      <th>colB</th>\n",
       "      <th>colC</th>\n",
       "    </tr>\n",
       "    <tr>\n",
       "      <th>name</th>\n",
       "      <th></th>\n",
       "      <th></th>\n",
       "      <th></th>\n",
       "    </tr>\n",
       "  </thead>\n",
       "  <tbody>\n",
       "    <tr>\n",
       "      <th>gene00</th>\n",
       "      <td>-2.067052</td>\n",
       "      <td>1.002433</td>\n",
       "      <td>1.141267</td>\n",
       "    </tr>\n",
       "    <tr>\n",
       "      <th>gene01</th>\n",
       "      <td>-1.754633</td>\n",
       "      <td>-0.854938</td>\n",
       "      <td>-2.865058</td>\n",
       "    </tr>\n",
       "    <tr>\n",
       "      <th>gene02</th>\n",
       "      <td>1.502113</td>\n",
       "      <td>0.913854</td>\n",
       "      <td>0.015743</td>\n",
       "    </tr>\n",
       "    <tr>\n",
       "      <th>gene03</th>\n",
       "      <td>0.223873</td>\n",
       "      <td>-1.093138</td>\n",
       "      <td>-1.689799</td>\n",
       "    </tr>\n",
       "    <tr>\n",
       "      <th>gene04</th>\n",
       "      <td>2.995752</td>\n",
       "      <td>-2.924062</td>\n",
       "      <td>0.142980</td>\n",
       "    </tr>\n",
       "    <tr>\n",
       "      <th>gene05</th>\n",
       "      <td>0.905100</td>\n",
       "      <td>1.195924</td>\n",
       "      <td>-1.253774</td>\n",
       "    </tr>\n",
       "    <tr>\n",
       "      <th>gene06</th>\n",
       "      <td>-2.175863</td>\n",
       "      <td>0.786769</td>\n",
       "      <td>0.595235</td>\n",
       "    </tr>\n",
       "    <tr>\n",
       "      <th>gene07</th>\n",
       "      <td>2.955156</td>\n",
       "      <td>2.273259</td>\n",
       "      <td>-0.718168</td>\n",
       "    </tr>\n",
       "    <tr>\n",
       "      <th>gene08</th>\n",
       "      <td>-1.072917</td>\n",
       "      <td>-2.737620</td>\n",
       "      <td>2.379621</td>\n",
       "    </tr>\n",
       "    <tr>\n",
       "      <th>gene09</th>\n",
       "      <td>2.673767</td>\n",
       "      <td>1.999504</td>\n",
       "      <td>-0.610535</td>\n",
       "    </tr>\n",
       "  </tbody>\n",
       "</table>\n",
       "</div>"
      ],
      "text/plain": [
       "            colA      colB      colC\n",
       "name                                \n",
       "gene00 -2.067052  1.002433  1.141267\n",
       "gene01 -1.754633 -0.854938 -2.865058\n",
       "gene02  1.502113  0.913854  0.015743\n",
       "gene03  0.223873 -1.093138 -1.689799\n",
       "gene04  2.995752 -2.924062  0.142980\n",
       "gene05  0.905100  1.195924 -1.253774\n",
       "gene06 -2.175863  0.786769  0.595235\n",
       "gene07  2.955156  2.273259 -0.718168\n",
       "gene08 -1.072917 -2.737620  2.379621\n",
       "gene09  2.673767  1.999504 -0.610535"
      ]
     },
     "metadata": {},
     "output_type": "display_data"
    }
   ],
   "source": [
    "index = [\"gene{:02d}\".format(i) for i in range(10)]\n",
    "columns = [\"colA\", \"colB\", \"colC\"]\n",
    "data = np.random.uniform(-3, 3, (len(index), len(columns)))\n",
    "df = pd.DataFrame(data, index=index, columns=columns)\n",
    "df.index.name = \"name\"\n",
    "display(df)\n",
    "df.to_csv(\"sample1.tsv\", header=True, sep=\"\\t\")"
   ]
  },
  {
   "cell_type": "code",
   "execution_count": null,
   "metadata": {
    "collapsed": true
   },
   "outputs": [],
   "source": []
  }
 ],
 "metadata": {
  "kernelspec": {
   "display_name": "Python 3",
   "language": "python",
   "name": "python3"
  },
  "language_info": {
   "codemirror_mode": {
    "name": "ipython",
    "version": 3
   },
   "file_extension": ".py",
   "mimetype": "text/x-python",
   "name": "python",
   "nbconvert_exporter": "python",
   "pygments_lexer": "ipython3",
   "version": "3.6.1"
  }
 },
 "nbformat": 4,
 "nbformat_minor": 2
}
