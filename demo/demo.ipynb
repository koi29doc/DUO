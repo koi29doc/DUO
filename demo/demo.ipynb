{
 "cells": [
  {
   "cell_type": "markdown",
   "metadata": {},
   "source": [
    "# Demo notebook for autoclasswrapper"
   ]
  },
  {
   "cell_type": "code",
   "execution_count": 1,
   "metadata": {},
   "outputs": [],
   "source": [
    "import numpy as np\n",
    "\n",
    "import pandas as pd\n",
    "import matplotlib.pyplot as plt\n",
    "import autoclasswrapper as wrapper\n",
    "\n",
    "%matplotlib inline"
   ]
  },
  {
   "cell_type": "markdown",
   "metadata": {},
   "source": [
    "## Dataset generation (toy dataset)"
   ]
  },
  {
   "cell_type": "code",
   "execution_count": 19,
   "metadata": {},
   "outputs": [
    {
     "data": {
      "text/html": [
       "<div>\n",
       "<style scoped>\n",
       "    .dataframe tbody tr th:only-of-type {\n",
       "        vertical-align: middle;\n",
       "    }\n",
       "\n",
       "    .dataframe tbody tr th {\n",
       "        vertical-align: top;\n",
       "    }\n",
       "\n",
       "    .dataframe thead th {\n",
       "        text-align: right;\n",
       "    }\n",
       "</style>\n",
       "<table border=\"1\" class=\"dataframe\">\n",
       "  <thead>\n",
       "    <tr style=\"text-align: right;\">\n",
       "      <th></th>\n",
       "      <th>x</th>\n",
       "      <th>y</th>\n",
       "      <th>color</th>\n",
       "    </tr>\n",
       "    <tr>\n",
       "      <th>name</th>\n",
       "      <th></th>\n",
       "      <th></th>\n",
       "      <th></th>\n",
       "    </tr>\n",
       "  </thead>\n",
       "  <tbody>\n",
       "    <tr>\n",
       "      <th>id000</th>\n",
       "      <td>2.094036</td>\n",
       "      <td>4.244686</td>\n",
       "      <td>blue</td>\n",
       "    </tr>\n",
       "    <tr>\n",
       "      <th>id001</th>\n",
       "      <td>3.119712</td>\n",
       "      <td>4.227933</td>\n",
       "      <td>blue</td>\n",
       "    </tr>\n",
       "    <tr>\n",
       "      <th>id002</th>\n",
       "      <td>3.284543</td>\n",
       "      <td>3.326259</td>\n",
       "      <td>blue</td>\n",
       "    </tr>\n",
       "    <tr>\n",
       "      <th>id003</th>\n",
       "      <td>3.161084</td>\n",
       "      <td>3.968565</td>\n",
       "      <td>blue</td>\n",
       "    </tr>\n",
       "    <tr>\n",
       "      <th>id004</th>\n",
       "      <td>3.796472</td>\n",
       "      <td>3.939852</td>\n",
       "      <td>blue</td>\n",
       "    </tr>\n",
       "  </tbody>\n",
       "</table>\n",
       "</div>"
      ],
      "text/plain": [
       "              x         y color\n",
       "name                           \n",
       "id000  2.094036  4.244686  blue\n",
       "id001  3.119712  4.227933  blue\n",
       "id002  3.284543  3.326259  blue\n",
       "id003  3.161084  3.968565  blue\n",
       "id004  3.796472  3.939852  blue"
      ]
     },
     "execution_count": 19,
     "metadata": {},
     "output_type": "execute_result"
    }
   ],
   "source": [
    "size = 50\n",
    "sigma = 0.6\n",
    "x = np.concatenate((np.random.normal(3, sigma, size), np.random.normal(4, sigma, size), np.random.normal(6, sigma, size)))\n",
    "y = np.concatenate((np.random.normal(4, sigma, size), np.random.normal(0, sigma, size), np.random.normal(5, sigma, size)))\n",
    "color = [\"blue\"]*size+[\"orange\"]*size+[\"purple\"]*size\n",
    "name = [\"id{:03d}\".format(id) for id in range(size*3)]\n",
    "df = pd.DataFrame.from_dict({\"x\":x, \"y\":y, \"color\":color})\n",
    "df.index = name\n",
    "df.index.name = \"name\"\n",
    "df.head()"
   ]
  },
  {
   "cell_type": "code",
   "execution_count": 23,
   "metadata": {},
   "outputs": [
    {
     "data": {
      "text/plain": [
       "(-5, 10)"
      ]
     },
     "execution_count": 23,
     "metadata": {},
     "output_type": "execute_result"
    },
    {
     "data": {
      "image/png": "[encoded data removed]",
      "text/plain": [
       "<Figure size 432x288 with 1 Axes>"
      ]
     },
     "metadata": {
      "needs_background": "light"
     },
     "output_type": "display_data"
    }
   ],
   "source": [
    "plt.scatter(df[\"x\"], df[\"y\"], color=df[\"color\"], s=10)\n",
    "plt.xlim(0, 10)\n",
    "plt.ylim(-5, 10)"
   ]
  },
  {
   "cell_type": "code",
   "execution_count": 26,
   "metadata": {},
   "outputs": [],
   "source": [
    "# verify all x are > 0\n",
    "assert min(df[\"x\"]) > 0"
   ]
  },
  {
   "cell_type": "code",
   "execution_count": 24,
   "metadata": {},
   "outputs": [],
   "source": [
    "df[\"x\"].to_csv(\"demo_real_scalar.tsv\", sep=\"\\t\", header=True)\n",
    "df[\"y\"].to_csv(\"demo_real_location.tsv\", sep=\"\\t\", header=True)"
   ]
  },
  {
   "cell_type": "markdown",
   "metadata": {},
   "source": [
    "## Autoclasswrapper - step 1 - prepare data"
   ]
  },
  {
   "cell_type": "code",
   "execution_count": 27,
   "metadata": {},
   "outputs": [
    {
     "name": "stderr",
     "output_type": "stream",
     "text": [
      "2018-12-11 23:16:48 INFO     Reading data file 'demo_real_scalar.tsv' as 'real scalar' with error 0.01\n",
      "2018-12-11 23:16:48 INFO     Detected encoding: ascii\n",
      "2018-12-11 23:16:48 INFO     Found 150 rows and 2 columns\n",
      "2018-12-11 23:16:48 DEBUG    Checking column names\n",
      "2018-12-11 23:16:48 DEBUG    Index name 'name'\n",
      "2018-12-11 23:16:48 DEBUG    Column name 'x'\n",
      "2018-12-11 23:16:48 INFO     Checking data format\n",
      "2018-12-11 23:16:48 INFO     Column 'x'\n",
      "count    150.000000\n",
      "mean       4.346629\n",
      "std        1.450099\n",
      "min        1.546894\n",
      "50%        4.062039\n",
      "max        7.491433\n",
      "2018-12-11 23:16:48 INFO     Reading data file 'demo_real_location.tsv' as 'real location' with error 0.01\n",
      "2018-12-11 23:16:48 INFO     Detected encoding: ascii\n",
      "2018-12-11 23:16:48 INFO     Found 150 rows and 2 columns\n",
      "2018-12-11 23:16:48 DEBUG    Checking column names\n",
      "2018-12-11 23:16:48 DEBUG    Index name 'name'\n",
      "2018-12-11 23:16:48 DEBUG    Column name 'y'\n",
      "2018-12-11 23:16:48 INFO     Checking data format\n",
      "2018-12-11 23:16:48 INFO     Column 'y'\n",
      "count    150.000000\n",
      "mean       2.949375\n",
      "std        2.275075\n",
      "min       -1.674319\n",
      "50%        3.966123\n",
      "max        6.761048\n",
      "2018-12-11 23:16:48 INFO     Merging input data\n",
      "2018-12-11 23:16:48 INFO     Final dataframe has 150 lines and 3 columns\n",
      "2018-12-11 23:16:48 INFO     Searching for missing values\n",
      "2018-12-11 23:16:48 INFO     No missing values found\n",
      "2018-12-11 23:16:48 INFO     Writing clust.db2 file\n",
      "2018-12-11 23:16:48 INFO     If any, missing values will be encoded as '?'\n",
      "2018-12-11 23:16:48 DEBUG    Writing clust.tsv file [for later use]\n",
      "2018-12-11 23:16:48 INFO     Writing .hd2 file\n",
      "2018-12-11 23:16:48 INFO     Writing .model file\n",
      "2018-12-11 23:16:48 INFO     Writing .s-params file\n",
      "2018-12-11 23:16:48 INFO     Writing .r-params file\n"
     ]
    }
   ],
   "source": [
    "# create object to prepare dataset\n",
    "clust = wrapper.Input()\n",
    "\n",
    "# load dataset in tsv format\n",
    "clust.add_input_data(\"demo_real_scalar.tsv\", \"real scalar\", 0.01)\n",
    "clust.add_input_data(\"demo_real_location.tsv\", \"real location\", 0.01)\n",
    "\n",
    "# merge datasets if multiple dataset had been loaded\n",
    "clust.merge_dataframes()\n",
    "\n",
    "# create files needed by autoclass\n",
    "clust.create_db2_file()\n",
    "clust.create_hd2_file()\n",
    "clust.create_model_file()\n",
    "clust.create_sparams_file()\n",
    "clust.create_rparams_file()"
   ]
  },
  {
   "cell_type": "markdown",
   "metadata": {},
   "source": [
    "## Autoclasswrapper - step 2 - prepare run script & run autoclass\n",
    "\n",
    "For this step AutoClass need to be installed locally and available in path.\n",
    "Here is a quick solution:\n",
    "```\n",
    "wget https://ti.arc.nasa.gov/m/project/autoclass/autoclass-c-3-3-6.tar.gz\n",
    "tar zxvf autoclass-c-3-3-6.tar.gz\n",
    "rm -f autoclass-c-3-3-6.tar.gz\n",
    "export PATH=$PATH:$(pwd)/autoclass-c\n",
    "# if you are using a 64-bit operating system,\n",
    "# you also need to install the standard 32-bit C libraries:\n",
    "# sudo apt-get install -y libc6-i386\n",
    "```"
   ]
  },
  {
   "cell_type": "code",
   "execution_count": 28,
   "metadata": {},
   "outputs": [
    {
     "name": "stderr",
     "output_type": "stream",
     "text": [
      "2018-12-11 23:17:00 INFO     autoclass executable found in /home/pierre/.soft/bin/autoclass\n",
      "2018-12-11 23:17:00 INFO     Writing run file\n",
      "2018-12-11 23:17:00 INFO     Running clustering...\n"
     ]
    }
   ],
   "source": [
    "# search autoclass in path\n",
    "wrapper.search_autoclass_in_path()\n",
    "\n",
    "# create object to run autoclass\n",
    "run = wrapper.Run()\n",
    "\n",
    "# prepare script to run autoclass\n",
    "run.create_run_file()\n",
    "\n",
    "# run autoclass\n",
    "run.run()\n"
   ]
  },
  {
   "cell_type": "markdown",
   "metadata": {},
   "source": [
    "## Autoclasswrapper - step 3 - parse and format results "
   ]
  },
  {
   "cell_type": "code",
   "execution_count": 29,
   "metadata": {},
   "outputs": [
    {
     "name": "stderr",
     "output_type": "stream",
     "text": [
      "2018-12-11 23:17:15 INFO     Extracting autoclass results\n",
      "2018-12-11 23:17:15 INFO     Found 150 cases classified in 3 classes\n",
      "2018-12-11 23:17:15 INFO     Aggregating input data\n",
      "2018-12-11 23:17:15 INFO     Writing clust + probs .tsv file\n",
      "2018-12-11 23:17:15 INFO     Writing .cdt file\n",
      "2018-12-11 23:17:15 INFO     Writing .cdt file (with probs)\n",
      "2018-12-11 23:17:15 INFO     Writing cluster stats\n",
      "2018-12-11 23:17:15 INFO     Writing dendrogram\n",
      "2018-12-11 23:17:15 INFO     clust_out.tsv added to zip file\n",
      "2018-12-11 23:17:15 INFO     clust_out.cdt added to zip file\n",
      "2018-12-11 23:17:15 INFO     clust_out_withprobs.cdt added to zip file\n",
      "2018-12-11 23:17:15 INFO     clust_out_stats.tsv added to zip file\n",
      "2018-12-11 23:17:15 INFO     clust_out_dendrogram.png added to zip file\n"
     ]
    },
    {
     "data": {
      "text/plain": [
       "'20181211-231715-autoclass-clust.zip'"
      ]
     },
     "execution_count": 29,
     "metadata": {},
     "output_type": "execute_result"
    },
    {
     "data": {
      "image/png": "[encoded data removed]",
      "text/plain": [
       "<Figure size 720x432 with 1 Axes>"
      ]
     },
     "metadata": {
      "needs_background": "light"
     },
     "output_type": "display_data"
    }
   ],
   "source": [
    "results = wrapper.Output()\n",
    "results.extract_results()\n",
    "results.aggregate_input_data()\n",
    "results.write_cdt()\n",
    "results.write_cdt(with_proba=True)\n",
    "results.write_cluster_stats()\n",
    "results.write_dendrogram()\n",
    "results.wrap_outputs()"
   ]
  },
  {
   "cell_type": "code",
   "execution_count": null,
   "metadata": {},
   "outputs": [],
   "source": []
  }
 ],
 "metadata": {
  "kernelspec": {
   "display_name": "Python 3",
   "language": "python",
   "name": "python3"
  },
  "language_info": {
   "codemirror_mode": {
    "name": "ipython",
    "version": 3
   },
   "file_extension": ".py",
   "mimetype": "text/x-python",
   "name": "python",
   "nbconvert_exporter": "python",
   "pygments_lexer": "ipython3",
   "version": "3.7.1"
  }
 },
 "nbformat": 4,
 "nbformat_minor": 2
}
