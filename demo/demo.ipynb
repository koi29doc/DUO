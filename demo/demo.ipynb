{
 "cells": [
  {
   "cell_type": "markdown",
   "metadata": {},
   "source": [
    "# Demo notebook for autoclasswrapper"
   ]
  },
  {
   "cell_type": "code",
   "execution_count": 1,
   "metadata": {},
   "outputs": [
    {
     "name": "stdout",
     "output_type": "stream",
     "text": [
      "matplotlib: 2.2.2\n",
      "numpy: 1.15.4\n",
      "pandas: 0.23.4\n"
     ]
    }
   ],
   "source": [
    "from pathlib import Path\n",
    "import sys\n",
    "import time\n",
    "\n",
    "import matplotlib\n",
    "import matplotlib.pyplot as plt\n",
    "from matplotlib.lines import Line2D\n",
    "import numpy as np\n",
    "import pandas as pd\n",
    "\n",
    "%matplotlib inline\n",
    "\n",
    "print(\"matplotlib:\", matplotlib.__version__)\n",
    "print(\"numpy:\", np.__version__)\n",
    "print(\"pandas:\", pd.__version__)"
   ]
  },
  {
   "cell_type": "code",
   "execution_count": 2,
   "metadata": {},
   "outputs": [
    {
     "name": "stdout",
     "output_type": "stream",
     "text": [
      "autoclass: 0.2.0\n"
     ]
    }
   ],
   "source": [
    "import autoclasswrapper as wrapper\n",
    "print(\"autoclass:\", wrapper.__version__)"
   ]
  },
  {
   "cell_type": "markdown",
   "metadata": {},
   "source": [
    "## Dataset generation (toy dataset)"
   ]
  },
  {
   "cell_type": "code",
   "execution_count": 3,
   "metadata": {},
   "outputs": [
    {
     "data": {
      "text/html": [
       "<div>\n",
       "<style scoped>\n",
       "    .dataframe tbody tr th:only-of-type {\n",
       "        vertical-align: middle;\n",
       "    }\n",
       "\n",
       "    .dataframe tbody tr th {\n",
       "        vertical-align: top;\n",
       "    }\n",
       "\n",
       "    .dataframe thead th {\n",
       "        text-align: right;\n",
       "    }\n",
       "</style>\n",
       "<table border=\"1\" class=\"dataframe\">\n",
       "  <thead>\n",
       "    <tr style=\"text-align: right;\">\n",
       "      <th></th>\n",
       "      <th>x</th>\n",
       "      <th>y</th>\n",
       "      <th>color</th>\n",
       "    </tr>\n",
       "    <tr>\n",
       "      <th>name</th>\n",
       "      <th></th>\n",
       "      <th></th>\n",
       "      <th></th>\n",
       "    </tr>\n",
       "  </thead>\n",
       "  <tbody>\n",
       "    <tr>\n",
       "      <th>id000</th>\n",
       "      <td>3.687872</td>\n",
       "      <td>4.099698</td>\n",
       "      <td>blue</td>\n",
       "    </tr>\n",
       "    <tr>\n",
       "      <th>id001</th>\n",
       "      <td>2.651725</td>\n",
       "      <td>3.569214</td>\n",
       "      <td>blue</td>\n",
       "    </tr>\n",
       "    <tr>\n",
       "      <th>id002</th>\n",
       "      <td>3.666884</td>\n",
       "      <td>3.786702</td>\n",
       "      <td>blue</td>\n",
       "    </tr>\n",
       "    <tr>\n",
       "      <th>id003</th>\n",
       "      <td>3.284471</td>\n",
       "      <td>4.326929</td>\n",
       "      <td>blue</td>\n",
       "    </tr>\n",
       "    <tr>\n",
       "      <th>id004</th>\n",
       "      <td>3.033947</td>\n",
       "      <td>2.885533</td>\n",
       "      <td>blue</td>\n",
       "    </tr>\n",
       "  </tbody>\n",
       "</table>\n",
       "</div>"
      ],
      "text/plain": [
       "              x         y color\n",
       "name                           \n",
       "id000  3.687872  4.099698  blue\n",
       "id001  2.651725  3.569214  blue\n",
       "id002  3.666884  3.786702  blue\n",
       "id003  3.284471  4.326929  blue\n",
       "id004  3.033947  2.885533  blue"
      ]
     },
     "execution_count": 3,
     "metadata": {},
     "output_type": "execute_result"
    }
   ],
   "source": [
    "size = 100\n",
    "sigma = 0.6\n",
    "x = np.concatenate((np.random.normal(3, sigma, size), np.random.normal(4, sigma, size), np.random.normal(6, sigma, size)))\n",
    "y = np.concatenate((np.random.normal(4, sigma, size), np.random.normal(0, sigma, size), np.random.normal(5, sigma, size)))\n",
    "color = [\"blue\"]*size+[\"orange\"]*size+[\"purple\"]*size\n",
    "name = [\"id{:03d}\".format(id) for id in range(size*3)]\n",
    "df = pd.DataFrame.from_dict({\"x\":x, \"y\":y, \"color\":color})\n",
    "df.index = name\n",
    "df.index.name = \"name\"\n",
    "df.head()"
   ]
  },
  {
   "cell_type": "code",
   "execution_count": 4,
   "metadata": {},
   "outputs": [
    {
     "data": {
      "image/png": "[encoded data removed]",
      "text/plain": [
       "<Figure size 432x288 with 1 Axes>"
      ]
     },
     "metadata": {
      "needs_background": "light"
     },
     "output_type": "display_data"
    }
   ],
   "source": [
    "plt.scatter(df[\"x\"], df[\"y\"], color=df[\"color\"], s=10)\n",
    "plt.xlabel(\"x\")\n",
    "plt.ylabel(\"y\")\n",
    "plt.xlim(0, 10)\n",
    "plt.ylim(-5, 10);"
   ]
  },
  {
   "cell_type": "code",
   "execution_count": 5,
   "metadata": {},
   "outputs": [],
   "source": [
    "# verify all x are > 0\n",
    "assert min(df[\"x\"]) > 0"
   ]
  },
  {
   "cell_type": "markdown",
   "metadata": {},
   "source": [
    "Save `x` and `y` in 2 different files (that will be later merged)"
   ]
  },
  {
   "cell_type": "code",
   "execution_count": 6,
   "metadata": {},
   "outputs": [],
   "source": [
    "df[\"x\"].to_csv(\"demo_real_scalar.tsv\", sep=\"\\t\", header=True)\n",
    "df[\"y\"].to_csv(\"demo_real_location.tsv\", sep=\"\\t\", header=True)"
   ]
  },
  {
   "cell_type": "markdown",
   "metadata": {},
   "source": [
    "## Autoclasswrapper - step 1 - prepare data\n",
    "\n",
    "AutoClass can handle different types of data :\n",
    "\n",
    "- *real scalar*: numerical values bounded by 0\n",
    "- *real location*: numerical values, positive et negative\n",
    "- *discrete*: values such as color...\n",
    "\n",
    "Each data type must be entered as separated input file. After quality check, they are merged.\n",
    "\n",
    "AutoClass handles very well missing data. Missing data must be represented by nothing (no `NA`, `?`...)"
   ]
  },
  {
   "cell_type": "code",
   "execution_count": 7,
   "metadata": {},
   "outputs": [
    {
     "name": "stderr",
     "output_type": "stream",
     "text": [
      "2018-12-26 15:08:07 INFO     Reading data file 'demo_real_scalar.tsv' as 'real scalar' with error 0.01\n",
      "2018-12-26 15:08:07 INFO     Detected encoding: ascii\n",
      "2018-12-26 15:08:07 INFO     Found 300 rows and 2 columns\n",
      "2018-12-26 15:08:07 DEBUG    Checking column names\n",
      "2018-12-26 15:08:07 DEBUG    Index name 'name'\n",
      "2018-12-26 15:08:07 DEBUG    Column name 'x'\n",
      "2018-12-26 15:08:07 INFO     Checking data format\n",
      "2018-12-26 15:08:07 INFO     Column 'x'\n",
      "count    300.000000\n",
      "mean       4.362075\n",
      "std        1.394259\n",
      "min        1.751985\n",
      "50%        4.099746\n",
      "max        7.400042\n",
      "2018-12-26 15:08:07 INFO     Reading data file 'demo_real_location.tsv' as 'real location' with error 0.01\n",
      "2018-12-26 15:08:07 INFO     Detected encoding: ascii\n",
      "2018-12-26 15:08:07 INFO     Found 300 rows and 2 columns\n",
      "2018-12-26 15:08:07 DEBUG    Checking column names\n",
      "2018-12-26 15:08:07 DEBUG    Index name 'name'\n",
      "2018-12-26 15:08:07 DEBUG    Column name 'y'\n",
      "2018-12-26 15:08:07 INFO     Checking data format\n",
      "2018-12-26 15:08:07 INFO     Column 'y'\n",
      "count    300.000000\n",
      "mean       3.042881\n",
      "std        2.287485\n",
      "min       -1.749325\n",
      "50%        4.003988\n",
      "max        6.258529\n",
      "2018-12-26 15:08:07 INFO     Merging input data\n",
      "2018-12-26 15:08:07 INFO     Final dataframe has 300 lines and 3 columns\n",
      "2018-12-26 15:08:07 INFO     Searching for missing values\n",
      "2018-12-26 15:08:07 INFO     No missing values found\n",
      "2018-12-26 15:08:07 INFO     Writing clust.db2 file\n",
      "2018-12-26 15:08:07 INFO     If any, missing values will be encoded as '?'\n",
      "2018-12-26 15:08:07 DEBUG    Writing clust.tsv file [for later use]\n",
      "2018-12-26 15:08:07 INFO     Writing .hd2 file\n",
      "2018-12-26 15:08:07 INFO     Writing .model file\n",
      "2018-12-26 15:08:07 INFO     Writing .s-params file\n",
      "2018-12-26 15:08:07 INFO     Writing .r-params file\n"
     ]
    }
   ],
   "source": [
    "# create object to prepare dataset\n",
    "clust = wrapper.Input()\n",
    "\n",
    "# load datasets from tsv files\n",
    "clust.add_input_data(\"demo_real_scalar.tsv\", \"real scalar\", 0.01)\n",
    "clust.add_input_data(\"demo_real_location.tsv\", \"real location\", 0.01)\n",
    "\n",
    "# merge datasets if multiple datasets had been loaded\n",
    "clust.merge_dataframes()\n",
    "\n",
    "# create files needed by autoclass\n",
    "clust.create_db2_file()\n",
    "clust.create_hd2_file()\n",
    "clust.create_model_file()\n",
    "clust.create_sparams_file()\n",
    "clust.create_rparams_file()"
   ]
  },
  {
   "cell_type": "markdown",
   "metadata": {},
   "source": [
    "## Autoclasswrapper - step 2 - prepare run script & run autoclass\n",
    "\n",
    "For this step [AutoClass C](https://ti.arc.nasa.gov/tech/rse/synthesis-projects-applications/autoclass/autoclass-c/) needs to be installed locally and available in path.\n",
    "\n",
    "Here is a quick solution for a Linux Bash shell:\n",
    "```\n",
    "wget https://ti.arc.nasa.gov/m/project/autoclass/autoclass-c-3-3-6.tar.gz\n",
    "tar zxvf autoclass-c-3-3-6.tar.gz\n",
    "rm -f autoclass-c-3-3-6.tar.gz\n",
    "export PATH=$PATH:$(pwd)/autoclass-c\n",
    "\n",
    "# if you are using a 64-bit operating system,\n",
    "# you also need to install the standard 32-bit C libraries:\n",
    "# sudo apt-get install -y libc6-i386\n",
    "```"
   ]
  },
  {
   "cell_type": "code",
   "execution_count": 8,
   "metadata": {},
   "outputs": [
    {
     "name": "stderr",
     "output_type": "stream",
     "text": [
      "2018-12-26 15:08:07 INFO     autoclass executable found in /home/pierre/.soft/bin/autoclass\n",
      "2018-12-26 15:08:07 INFO     Writing run file\n",
      "2018-12-26 15:08:07 INFO     Running clustering...\n"
     ]
    }
   ],
   "source": [
    "# search autoclass in path\n",
    "wrapper.search_autoclass_in_path()\n",
    "\n",
    "# create object to run autoclass\n",
    "run = wrapper.Run()\n",
    "\n",
    "# prepare script to run autoclass\n",
    "run.create_run_file()\n",
    "\n",
    "# run autoclass\n",
    "run.run()"
   ]
  },
  {
   "cell_type": "markdown",
   "metadata": {},
   "source": [
    "## Autoclasswrapper - step 3 - parse and format results\n",
    "\n",
    "AutoClass results are parsed and formated for an easier use :\n",
    "\n",
    "- `.cdt`: files can be open with [Java Tree View](http://jtreeview.sourceforge.net/)\n",
    "- `.tsv`: file can be easily open and process with Microsoft Excel, R, Python...\n",
    "- `_stats.tsv`: basic statistics for all classes\n",
    "- `_dendrogram.png`: figure with a dendrogram showing relationship between classes\n",
    "\n",
    "Note that the $n$ classes are numbered from 1 to $n$.\n",
    "\n",
    "\n",
    "Results are analyzed only when classification is completed.\n"
   ]
  },
  {
   "cell_type": "code",
   "execution_count": 9,
   "metadata": {},
   "outputs": [
    {
     "name": "stdout",
     "output_type": "stream",
     "text": [
      "Time: 4 sec."
     ]
    },
    {
     "name": "stderr",
     "output_type": "stream",
     "text": [
      "2018-12-26 15:08:11 INFO     Extracting autoclass results\n",
      "2018-12-26 15:08:11 INFO     Found 300 cases classified in 3 classes\n",
      "2018-12-26 15:08:11 INFO     Aggregating input data\n",
      "2018-12-26 15:08:11 INFO     Writing classes + probabilities .tsv file\n",
      "2018-12-26 15:08:11 INFO     Writing .cdt file\n",
      "2018-12-26 15:08:11 INFO     Writing .cdt file (with probabilities)\n",
      "2018-12-26 15:08:11 INFO     Writing class statistics\n",
      "2018-12-26 15:08:11 INFO     Writing dendrogram\n"
     ]
    },
    {
     "data": {
      "image/png": "[encoded data removed]",
      "text/plain": [
       "<Figure size 720x432 with 1 Axes>"
      ]
     },
     "metadata": {
      "needs_background": "light"
     },
     "output_type": "display_data"
    }
   ],
   "source": [
    "timer = 0\n",
    "step = 2\n",
    "while not Path(\"autoclass-run-success\").exists():\n",
    "    timer += step\n",
    "    sys.stdout.write(\"\\r\")\n",
    "    sys.stdout.write(\"Time: {} sec.\".format(timer))\n",
    "    sys.stdout.flush()\n",
    "    time.sleep(step)\n",
    "\n",
    "results = wrapper.Output()\n",
    "results.extract_results()\n",
    "results.aggregate_input_data()\n",
    "results.write_cdt()\n",
    "results.write_cdt(with_proba=True)\n",
    "results.write_class_stats()\n",
    "results.write_dendrogram()"
   ]
  },
  {
   "cell_type": "code",
   "execution_count": 10,
   "metadata": {},
   "outputs": [],
   "source": [
    "df_res = pd.read_csv(\"clust_out.tsv\", sep=\"\\t\")"
   ]
  },
  {
   "cell_type": "code",
   "execution_count": 11,
   "metadata": {},
   "outputs": [
    {
     "data": {
      "text/html": [
       "<div>\n",
       "<style scoped>\n",
       "    .dataframe tbody tr th:only-of-type {\n",
       "        vertical-align: middle;\n",
       "    }\n",
       "\n",
       "    .dataframe tbody tr th {\n",
       "        vertical-align: top;\n",
       "    }\n",
       "\n",
       "    .dataframe thead th {\n",
       "        text-align: right;\n",
       "    }\n",
       "</style>\n",
       "<table border=\"1\" class=\"dataframe\">\n",
       "  <thead>\n",
       "    <tr style=\"text-align: right;\">\n",
       "      <th></th>\n",
       "      <th>name</th>\n",
       "      <th>x</th>\n",
       "      <th>y</th>\n",
       "      <th>main-class</th>\n",
       "      <th>main-class-proba</th>\n",
       "      <th>class-1-proba</th>\n",
       "      <th>class-2-proba</th>\n",
       "      <th>class-3-proba</th>\n",
       "    </tr>\n",
       "  </thead>\n",
       "  <tbody>\n",
       "    <tr>\n",
       "      <th>0</th>\n",
       "      <td>id000</td>\n",
       "      <td>3.687872</td>\n",
       "      <td>4.099698</td>\n",
       "      <td>1</td>\n",
       "      <td>1.000</td>\n",
       "      <td>1.000</td>\n",
       "      <td>0.0</td>\n",
       "      <td>0.0</td>\n",
       "    </tr>\n",
       "    <tr>\n",
       "      <th>1</th>\n",
       "      <td>id001</td>\n",
       "      <td>2.651725</td>\n",
       "      <td>3.569214</td>\n",
       "      <td>1</td>\n",
       "      <td>1.000</td>\n",
       "      <td>1.000</td>\n",
       "      <td>0.0</td>\n",
       "      <td>0.0</td>\n",
       "    </tr>\n",
       "    <tr>\n",
       "      <th>2</th>\n",
       "      <td>id002</td>\n",
       "      <td>3.666884</td>\n",
       "      <td>3.786702</td>\n",
       "      <td>1</td>\n",
       "      <td>1.000</td>\n",
       "      <td>1.000</td>\n",
       "      <td>0.0</td>\n",
       "      <td>0.0</td>\n",
       "    </tr>\n",
       "    <tr>\n",
       "      <th>3</th>\n",
       "      <td>id003</td>\n",
       "      <td>3.284471</td>\n",
       "      <td>4.326929</td>\n",
       "      <td>1</td>\n",
       "      <td>1.000</td>\n",
       "      <td>1.000</td>\n",
       "      <td>0.0</td>\n",
       "      <td>0.0</td>\n",
       "    </tr>\n",
       "    <tr>\n",
       "      <th>4</th>\n",
       "      <td>id004</td>\n",
       "      <td>3.033947</td>\n",
       "      <td>2.885533</td>\n",
       "      <td>1</td>\n",
       "      <td>0.999</td>\n",
       "      <td>0.999</td>\n",
       "      <td>0.0</td>\n",
       "      <td>0.0</td>\n",
       "    </tr>\n",
       "  </tbody>\n",
       "</table>\n",
       "</div>"
      ],
      "text/plain": [
       "    name         x         y  main-class  main-class-proba  class-1-proba  \\\n",
       "0  id000  3.687872  4.099698           1             1.000          1.000   \n",
       "1  id001  2.651725  3.569214           1             1.000          1.000   \n",
       "2  id002  3.666884  3.786702           1             1.000          1.000   \n",
       "3  id003  3.284471  4.326929           1             1.000          1.000   \n",
       "4  id004  3.033947  2.885533           1             0.999          0.999   \n",
       "\n",
       "   class-2-proba  class-3-proba  \n",
       "0            0.0            0.0  \n",
       "1            0.0            0.0  \n",
       "2            0.0            0.0  \n",
       "3            0.0            0.0  \n",
       "4            0.0            0.0  "
      ]
     },
     "execution_count": 11,
     "metadata": {},
     "output_type": "execute_result"
    }
   ],
   "source": [
    "df_res.head()"
   ]
  },
  {
   "cell_type": "code",
   "execution_count": 12,
   "metadata": {},
   "outputs": [],
   "source": [
    "class_to_color = {1: \"green\",\n",
    "                  2: \"purple\",\n",
    "                  3: \"gray\",\n",
    "                  4: \"blue\",\n",
    "                  5: \"orange\",\n",
    "                  6: \"red\"}\n",
    "df_res[\"main-class\"] = df_res[\"main-class\"].replace(class_to_color)"
   ]
  },
  {
   "cell_type": "markdown",
   "metadata": {},
   "source": [
    "## Display classes"
   ]
  },
  {
   "cell_type": "code",
   "execution_count": 13,
   "metadata": {},
   "outputs": [
    {
     "data": {
      "image/png": "[encoded data removed]",
      "text/plain": [
       "<Figure size 432x288 with 1 Axes>"
      ]
     },
     "metadata": {
      "needs_background": "light"
     },
     "output_type": "display_data"
    }
   ],
   "source": [
    "plt.scatter(df_res[\"x\"], df_res[\"y\"], color=df_res[\"main-class\"], s=10)\n",
    "plt.xlabel(\"x\")\n",
    "plt.ylabel(\"y\")\n",
    "plt.xlim(0, 10)\n",
    "legend_elements = [Line2D([0], [0], marker='o', color=value, label=str(key), markersize=8) \n",
    "                   for key, value in class_to_color.items()]\n",
    "plt.legend(handles=legend_elements)\n",
    "plt.ylim(-5, 10);"
   ]
  },
  {
   "cell_type": "markdown",
   "metadata": {},
   "source": [
    "## Compare to original distribution"
   ]
  },
  {
   "cell_type": "code",
   "execution_count": 14,
   "metadata": {},
   "outputs": [
    {
     "data": {
      "image/png": "[encoded data removed]",
      "text/plain": [
       "<Figure size 432x288 with 1 Axes>"
      ]
     },
     "metadata": {
      "needs_background": "light"
     },
     "output_type": "display_data"
    }
   ],
   "source": [
    "plt.scatter(df[\"x\"], df[\"y\"], color=df[\"color\"], s=10)\n",
    "plt.xlabel(\"x\")\n",
    "plt.ylabel(\"y\")\n",
    "plt.xlim(0, 10)\n",
    "plt.ylim(-5, 10);"
   ]
  },
  {
   "cell_type": "code",
   "execution_count": 15,
   "metadata": {},
   "outputs": [
    {
     "data": {
      "text/plain": [
       "dict_items([(1, 'green'), (2, 'purple'), (3, 'gray'), (4, 'blue'), (5, 'orange'), (6, 'red')])"
      ]
     },
     "execution_count": 15,
     "metadata": {},
     "output_type": "execute_result"
    }
   ],
   "source": [
    "class_to_color.items()"
   ]
  },
  {
   "cell_type": "code",
   "execution_count": null,
   "metadata": {},
   "outputs": [],
   "source": []
  }
 ],
 "metadata": {
  "kernelspec": {
   "display_name": "Python 3",
   "language": "python",
   "name": "python3"
  },
  "language_info": {
   "codemirror_mode": {
    "name": "ipython",
    "version": 3
   },
   "file_extension": ".py",
   "mimetype": "text/x-python",
   "name": "python",
   "nbconvert_exporter": "python",
   "pygments_lexer": "ipython3",
   "version": "3.7.1"
  }
 },
 "nbformat": 4,
 "nbformat_minor": 2
}
